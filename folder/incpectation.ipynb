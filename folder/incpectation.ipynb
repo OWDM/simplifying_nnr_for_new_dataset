{
 "cells": [
  {
   "cell_type": "code",
   "execution_count": 3,
   "metadata": {},
   "outputs": [
    {
     "ename": "ValueError",
     "evalue": "No objects to concatenate",
     "output_type": "error",
     "traceback": [
      "\u001b[1;31m---------------------------------------------------------------------------\u001b[0m",
      "\u001b[1;31mValueError\u001b[0m                                Traceback (most recent call last)",
      "\u001b[1;32mc:\\Users\\Musae\\Documents\\GitHub-REPOs\\simplifying_nnr_for_new_dataset\\folder\\incpectation.ipynb Cell 1\u001b[0m line \u001b[0;36m8\n\u001b[0;32m      <a href='vscode-notebook-cell:/c%3A/Users/Musae/Documents/GitHub-REPOs/simplifying_nnr_for_new_dataset/folder/incpectation.ipynb#W0sZmlsZQ%3D%3D?line=4'>5</a>\u001b[0m all_files \u001b[39m=\u001b[39m [os\u001b[39m.\u001b[39mpath\u001b[39m.\u001b[39mjoin(directory, file) \u001b[39mfor\u001b[39;00m file \u001b[39min\u001b[39;00m os\u001b[39m.\u001b[39mlistdir(directory) \u001b[39mif\u001b[39;00m file\u001b[39m.\u001b[39mendswith(\u001b[39m'\u001b[39m\u001b[39m.file\u001b[39m\u001b[39m'\u001b[39m)]\n\u001b[0;32m      <a href='vscode-notebook-cell:/c%3A/Users/Musae/Documents/GitHub-REPOs/simplifying_nnr_for_new_dataset/folder/incpectation.ipynb#W0sZmlsZQ%3D%3D?line=6'>7</a>\u001b[0m \u001b[39m# Load all files into a single DataFrame\u001b[39;00m\n\u001b[1;32m----> <a href='vscode-notebook-cell:/c%3A/Users/Musae/Documents/GitHub-REPOs/simplifying_nnr_for_new_dataset/folder/incpectation.ipynb#W0sZmlsZQ%3D%3D?line=7'>8</a>\u001b[0m df \u001b[39m=\u001b[39m pd\u001b[39m.\u001b[39;49mconcat((pd\u001b[39m.\u001b[39;49mread_csv(file) \u001b[39mfor\u001b[39;49;00m file \u001b[39min\u001b[39;49;00m all_files), ignore_index\u001b[39m=\u001b[39;49m\u001b[39mTrue\u001b[39;49;00m)\n\u001b[0;32m     <a href='vscode-notebook-cell:/c%3A/Users/Musae/Documents/GitHub-REPOs/simplifying_nnr_for_new_dataset/folder/incpectation.ipynb#W0sZmlsZQ%3D%3D?line=9'>10</a>\u001b[0m \u001b[39m# Display the first few rows and check for missing values\u001b[39;00m\n\u001b[0;32m     <a href='vscode-notebook-cell:/c%3A/Users/Musae/Documents/GitHub-REPOs/simplifying_nnr_for_new_dataset/folder/incpectation.ipynb#W0sZmlsZQ%3D%3D?line=10'>11</a>\u001b[0m \u001b[39mprint\u001b[39m(df\u001b[39m.\u001b[39mhead())\n",
      "File \u001b[1;32mc:\\Users\\Musae\\AppData\\Local\\Programs\\Python\\Python311\\Lib\\site-packages\\pandas\\core\\reshape\\concat.py:382\u001b[0m, in \u001b[0;36mconcat\u001b[1;34m(objs, axis, join, ignore_index, keys, levels, names, verify_integrity, sort, copy)\u001b[0m\n\u001b[0;32m    379\u001b[0m \u001b[39melif\u001b[39;00m copy \u001b[39mand\u001b[39;00m using_copy_on_write():\n\u001b[0;32m    380\u001b[0m     copy \u001b[39m=\u001b[39m \u001b[39mFalse\u001b[39;00m\n\u001b[1;32m--> 382\u001b[0m op \u001b[39m=\u001b[39m _Concatenator(\n\u001b[0;32m    383\u001b[0m     objs,\n\u001b[0;32m    384\u001b[0m     axis\u001b[39m=\u001b[39;49maxis,\n\u001b[0;32m    385\u001b[0m     ignore_index\u001b[39m=\u001b[39;49mignore_index,\n\u001b[0;32m    386\u001b[0m     join\u001b[39m=\u001b[39;49mjoin,\n\u001b[0;32m    387\u001b[0m     keys\u001b[39m=\u001b[39;49mkeys,\n\u001b[0;32m    388\u001b[0m     levels\u001b[39m=\u001b[39;49mlevels,\n\u001b[0;32m    389\u001b[0m     names\u001b[39m=\u001b[39;49mnames,\n\u001b[0;32m    390\u001b[0m     verify_integrity\u001b[39m=\u001b[39;49mverify_integrity,\n\u001b[0;32m    391\u001b[0m     copy\u001b[39m=\u001b[39;49mcopy,\n\u001b[0;32m    392\u001b[0m     sort\u001b[39m=\u001b[39;49msort,\n\u001b[0;32m    393\u001b[0m )\n\u001b[0;32m    395\u001b[0m \u001b[39mreturn\u001b[39;00m op\u001b[39m.\u001b[39mget_result()\n",
      "File \u001b[1;32mc:\\Users\\Musae\\AppData\\Local\\Programs\\Python\\Python311\\Lib\\site-packages\\pandas\\core\\reshape\\concat.py:445\u001b[0m, in \u001b[0;36m_Concatenator.__init__\u001b[1;34m(self, objs, axis, join, keys, levels, names, ignore_index, verify_integrity, copy, sort)\u001b[0m\n\u001b[0;32m    442\u001b[0m \u001b[39mself\u001b[39m\u001b[39m.\u001b[39mverify_integrity \u001b[39m=\u001b[39m verify_integrity\n\u001b[0;32m    443\u001b[0m \u001b[39mself\u001b[39m\u001b[39m.\u001b[39mcopy \u001b[39m=\u001b[39m copy\n\u001b[1;32m--> 445\u001b[0m objs, keys \u001b[39m=\u001b[39m \u001b[39mself\u001b[39;49m\u001b[39m.\u001b[39;49m_clean_keys_and_objs(objs, keys)\n\u001b[0;32m    447\u001b[0m \u001b[39m# figure out what our result ndim is going to be\u001b[39;00m\n\u001b[0;32m    448\u001b[0m ndims \u001b[39m=\u001b[39m \u001b[39mself\u001b[39m\u001b[39m.\u001b[39m_get_ndims(objs)\n",
      "File \u001b[1;32mc:\\Users\\Musae\\AppData\\Local\\Programs\\Python\\Python311\\Lib\\site-packages\\pandas\\core\\reshape\\concat.py:507\u001b[0m, in \u001b[0;36m_Concatenator._clean_keys_and_objs\u001b[1;34m(self, objs, keys)\u001b[0m\n\u001b[0;32m    504\u001b[0m     objs_list \u001b[39m=\u001b[39m \u001b[39mlist\u001b[39m(objs)\n\u001b[0;32m    506\u001b[0m \u001b[39mif\u001b[39;00m \u001b[39mlen\u001b[39m(objs_list) \u001b[39m==\u001b[39m \u001b[39m0\u001b[39m:\n\u001b[1;32m--> 507\u001b[0m     \u001b[39mraise\u001b[39;00m \u001b[39mValueError\u001b[39;00m(\u001b[39m\"\u001b[39m\u001b[39mNo objects to concatenate\u001b[39m\u001b[39m\"\u001b[39m)\n\u001b[0;32m    509\u001b[0m \u001b[39mif\u001b[39;00m keys \u001b[39mis\u001b[39;00m \u001b[39mNone\u001b[39;00m:\n\u001b[0;32m    510\u001b[0m     objs_list \u001b[39m=\u001b[39m \u001b[39mlist\u001b[39m(com\u001b[39m.\u001b[39mnot_none(\u001b[39m*\u001b[39mobjs_list))\n",
      "\u001b[1;31mValueError\u001b[0m: No objects to concatenate"
     ]
    }
   ],
   "source": [
    "import pandas as pd\n",
    "import os\n",
    "\n",
    "directory = \"C:\\\\Users\\\\Musae\\\\Documents\\\\GitHub-REPOs\\\\data for Rec\\\\one_week\"\n",
    "all_files = [os.path.join(directory, file) for file in os.listdir(directory) if file.endswith('.file')]\n",
    "\n",
    "# Load all files into a single DataFrame\n",
    "df = pd.concat((pd.read_csv(file) for file in all_files), ignore_index=True)\n",
    "\n",
    "# Display the first few rows and check for missing values\n",
    "print(df.head())\n",
    "print(\"\\nMissing values:\", df.isnull().sum())\n"
   ]
  },
  {
   "cell_type": "code",
   "execution_count": 6,
   "metadata": {},
   "outputs": [
    {
     "name": "stdout",
     "output_type": "stream",
     "text": [
      "{'profile': [{'item': '0', 'groups': [{'count': 1, 'group': 'adressa-importance', 'weight': 1.0}]}, {'item': 'adressa', 'groups': [{'count': 1, 'group': 'concept', 'weight': 0.6796875}]}, {'item': 'adressa.no', 'groups': [{'count': 1, 'group': 'site', 'weight': 1.0}]}, {'item': 'adresseavisen', 'groups': [{'count': 1, 'group': 'entity', 'weight': 0.578125}]}, {'item': 'article', 'groups': [{'count': 1, 'group': 'pageclass', 'weight': 1.0}]}, {'item': 'bildet', 'groups': [{'count': 1, 'group': 'concept', 'weight': 0.78125}]}, {'item': 'camilla kilnes', 'groups': [{'count': 1, 'group': 'author', 'weight': 1.0}]}, {'item': 'espen rasmussen', 'groups': [{'count': 1, 'group': 'author', 'weight': 1.0}]}, {'item': 'free', 'groups': [{'count': 1, 'group': 'adressa-access', 'weight': 1.0}]}, {'item': 'hobbies-and-interests', 'groups': [{'count': 1, 'group': 'classification', 'weight': 0.48828125}]}, {'item': 'lesernes nyttårsbilder', 'groups': [{'count': 1, 'group': 'concept', 'weight': 1.0}]}, {'item': 'negative', 'groups': [{'count': 1, 'group': 'sentiment', 'weight': 1.0}]}, {'item': 'no', 'groups': [{'count': 1, 'group': 'language', 'weight': 1.0}]}, {'item': 'nyheter', 'groups': [{'count': 1, 'group': 'category', 'weight': 0.1171875}, {'count': 1, 'group': 'taxonomy', 'weight': 0.125}]}], 'activeTime': 66, 'canonicalUrl': 'http://www.adressa.no/nyheter/2016/12/31/Se-lesernes-nytt%c3%a5rsbilder-14000400.ece', 'referrerHostClass': 'search', 'sessionStop': False, 'userId': 'cx:128mgtvbetsl9201unx8ji98up:317hv1knufc2i', 'publishtime': '2016-12-31T17:13:57.000Z', 'sessionStart': False, 'referrerUrl': 'http://adressa.no', 'keywords': 'utenriks,innenriks,trondheim,E6,midtbyen,bybrann,bilulykker', 'id': '9f3999bd1a1a8d67bcb073ad54840f15cb30f014', 'eventId': 715165139, 'city': 'malaga', 'title': 'Se lesernes nyttårsbilder', 'url': 'http://adressa.no/nyheter/2016/12/31/se-lesernes-nytt%c3%a5rsbilder-14000400.ece', 'country': 'es', 'region': 'malaga', 'author': ['camilla kilnes', 'espen rasmussen'], 'referrerSearchEngine': 'Internal', 'deviceType': 'Tablet', 'time': 1483225432, 'os': 'iPhone OS'}\n"
     ]
    }
   ],
   "source": [
    "import json\n",
    "\n",
    "# Path to your JSON file\n",
    "file_path = \"C:\\\\Users\\\\Musae\\\\Documents\\\\GitHub-REPOs\\\\data for Rec\\\\one_week\\\\20170101\"\n",
    "\n",
    "# Initialize a list to hold all parsed data\n",
    "data = []\n",
    "\n",
    "# Open the file and read line by line\n",
    "with open(file_path, 'r') as file:\n",
    "    for line in file:\n",
    "        try:\n",
    "            # Parse each line as a JSON object and add to list\n",
    "            data.append(json.loads(line))\n",
    "        except json.JSONDecodeError:\n",
    "            print(\"Error decoding JSON from line:\", line)\n",
    "\n",
    "# Example: Print the first entry\n",
    "print(data[1000])\n",
    "\n",
    "# You can now perform operations on 'data', which contains your log entries as dictionaries\n"
   ]
  },
  {
   "cell_type": "code",
   "execution_count": 7,
   "metadata": {},
   "outputs": [
    {
     "name": "stdout",
     "output_type": "stream",
     "text": [
      "                                             profile  activeTime  \\\n",
      "0  [{'item': '0', 'groups': [{'count': 1, 'group'...          79   \n",
      "\n",
      "                                        canonicalUrl referrerHostClass  \n",
      "0  http://www.adressa.no/nyheter/2016/12/31/Se-le...            search  \n",
      "       activeTime\n",
      "count         1.0\n",
      "mean         79.0\n",
      "std           NaN\n",
      "min          79.0\n",
      "25%          79.0\n",
      "50%          79.0\n",
      "75%          79.0\n",
      "max          79.0\n"
     ]
    },
    {
     "data": {
      "image/png": "[encoded data removed]",
      "text/plain": [
       "<Figure size 640x480 with 1 Axes>"
      ]
     },
     "metadata": {},
     "output_type": "display_data"
    }
   ],
   "source": [
    "import pandas as pd\n",
    "import matplotlib.pyplot as plt\n",
    "\n",
    "# Sample data as a dictionary\n",
    "data = {\n",
    "    'profile': [{'item': '0', 'groups': [{'count': 1, 'group': 'adressa-importance', 'weight': 1.0}]},\n",
    "                {'item': 'adressa', 'groups': [{'count': 1, 'group': 'concept', 'weight': 0.6796875}]},\n",
    "                # Add the rest of your data similarly...\n",
    "               ],\n",
    "    'activeTime': 79,\n",
    "    'canonicalUrl': 'http://www.adressa.no/nyheter/2016/12/31/Se-lesernes-nyttårsbilder-14000400.ece',\n",
    "    'referrerHostClass': 'search',\n",
    "    # Continue adding other fields...\n",
    "}\n",
    "\n",
    "# Converting the dictionary to a DataFrame\n",
    "df = pd.DataFrame([data])\n",
    "\n",
    "# Displaying the structure of DataFrame\n",
    "print(df.head())\n",
    "\n",
    "# Basic statistics\n",
    "print(df.describe())\n",
    "\n",
    "# Visualization example: Histogram of 'activeTime'\n",
    "plt.hist(df['activeTime'], bins=10, alpha=0.75)\n",
    "plt.title('Histogram of Active Time')\n",
    "plt.xlabel('Active Time (s)')\n",
    "plt.ylabel('Frequency')\n",
    "plt.show()\n",
    "\n",
    "# Assuming more complex data manipulation and analysis will be done as needed\n"
   ]
  }
 ],
 "metadata": {
  "kernelspec": {
   "display_name": "Python 3",
   "language": "python",
   "name": "python3"
  },
  "language_info": {
   "codemirror_mode": {
    "name": "ipython",
    "version": 3
   },
   "file_extension": ".py",
   "mimetype": "text/x-python",
   "name": "python",
   "nbconvert_exporter": "python",
   "pygments_lexer": "ipython3",
   "version": "3.11.4"
  },
  "orig_nbformat": 4
 },
 "nbformat": 4,
 "nbformat_minor": 2
}
